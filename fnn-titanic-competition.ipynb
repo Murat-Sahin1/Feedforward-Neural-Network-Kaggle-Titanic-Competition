{
 "cells": [
  {
   "cell_type": "markdown",
   "id": "084faa51",
   "metadata": {
    "papermill": {
     "duration": 0.008324,
     "end_time": "2022-12-25T15:34:01.873450",
     "exception": false,
     "start_time": "2022-12-25T15:34:01.865126",
     "status": "completed"
    },
    "tags": []
   },
   "source": [
    "# Importing the libraries"
   ]
  },
  {
   "cell_type": "code",
   "execution_count": 1,
   "id": "33c2d726",
   "metadata": {
    "execution": {
     "iopub.execute_input": "2022-12-25T15:34:01.890115Z",
     "iopub.status.busy": "2022-12-25T15:34:01.889454Z",
     "iopub.status.idle": "2022-12-25T15:34:01.902209Z",
     "shell.execute_reply": "2022-12-25T15:34:01.901151Z"
    },
    "papermill": {
     "duration": 0.02383,
     "end_time": "2022-12-25T15:34:01.904644",
     "exception": false,
     "start_time": "2022-12-25T15:34:01.880814",
     "status": "completed"
    },
    "tags": []
   },
   "outputs": [],
   "source": [
    "import numpy as np\n",
    "import pandas as pd\n",
    "import matplotlib as plt"
   ]
  },
  {
   "cell_type": "markdown",
   "id": "9a1c26d2",
   "metadata": {
    "papermill": {
     "duration": 0.006303,
     "end_time": "2022-12-25T15:34:01.917629",
     "exception": false,
     "start_time": "2022-12-25T15:34:01.911326",
     "status": "completed"
    },
    "tags": []
   },
   "source": [
    "# Importing the dataset"
   ]
  },
  {
   "cell_type": "code",
   "execution_count": 2,
   "id": "252fcb9b",
   "metadata": {
    "execution": {
     "iopub.execute_input": "2022-12-25T15:34:01.933041Z",
     "iopub.status.busy": "2022-12-25T15:34:01.932597Z",
     "iopub.status.idle": "2022-12-25T15:34:01.991788Z",
     "shell.execute_reply": "2022-12-25T15:34:01.990792Z"
    },
    "papermill": {
     "duration": 0.070278,
     "end_time": "2022-12-25T15:34:01.994715",
     "exception": false,
     "start_time": "2022-12-25T15:34:01.924437",
     "status": "completed"
    },
    "tags": []
   },
   "outputs": [],
   "source": [
    "train_dataset = pd.read_csv('/kaggle/input/titanic/train.csv')\n",
    "test_dataset = pd.read_csv('/kaggle/input/titanic/test.csv')\n",
    "gender_submission = pd.read_csv('/kaggle/input/titanic/gender_submission.csv')\n",
    "\n",
    "Y_train = train_dataset.iloc[:, 1:2].values.flatten()\n",
    "x_train_names = train_dataset.iloc[:, 3:4].values\n",
    "x_train = train_dataset.drop(columns = [\"Survived\", \"Cabin\", \"PassengerId\", \"Name\", \"Ticket\"]).iloc[:, :].values\n",
    "x_test_ids = test_dataset.iloc[:,0:1].values\n",
    "x_test_names = test_dataset.iloc[:, 2:3].values\n",
    "x_test = test_dataset.drop(columns = [\"Cabin\", \"Name\", \"Ticket\"]).iloc[:,1:].values"
   ]
  },
  {
   "cell_type": "markdown",
   "id": "0cc791da",
   "metadata": {
    "papermill": {
     "duration": 0.006237,
     "end_time": "2022-12-25T15:34:02.007631",
     "exception": false,
     "start_time": "2022-12-25T15:34:02.001394",
     "status": "completed"
    },
    "tags": []
   },
   "source": [
    "# Filling of missing data"
   ]
  },
  {
   "cell_type": "code",
   "execution_count": 3,
   "id": "e6bbc0e0",
   "metadata": {
    "execution": {
     "iopub.execute_input": "2022-12-25T15:34:02.022544Z",
     "iopub.status.busy": "2022-12-25T15:34:02.022143Z",
     "iopub.status.idle": "2022-12-25T15:34:03.154593Z",
     "shell.execute_reply": "2022-12-25T15:34:03.153436Z"
    },
    "papermill": {
     "duration": 1.143327,
     "end_time": "2022-12-25T15:34:03.157503",
     "exception": false,
     "start_time": "2022-12-25T15:34:02.014176",
     "status": "completed"
    },
    "tags": []
   },
   "outputs": [],
   "source": [
    "from sklearn.impute import SimpleImputer\n",
    "\n",
    "# Filling the age column of x_train\n",
    "\n",
    "imputer = SimpleImputer(missing_values = np.nan, strategy = 'mean')\n",
    "imputer.fit(x_train[:,2:3])\n",
    "x_train[:,2:3] = imputer.transform(x_train[:,2:3])\n",
    "\n",
    "#Filling the embarked column of x_train\n",
    "\n",
    "x_train[:, -1]=['S' if x is np.nan else x for x in x_train[:, -1]]\n",
    "\n",
    "#Filling the age column of x_test\n",
    "\n",
    "imputer = SimpleImputer(missing_values = np.nan, strategy = 'mean')\n",
    "imputer.fit(x_test[:,2:3])\n",
    "x_test[:,2:3] = imputer.transform(x_test[:,2:3])"
   ]
  },
  {
   "cell_type": "markdown",
   "id": "e8132346",
   "metadata": {
    "papermill": {
     "duration": 0.00633,
     "end_time": "2022-12-25T15:34:03.170637",
     "exception": false,
     "start_time": "2022-12-25T15:34:03.164307",
     "status": "completed"
    },
    "tags": []
   },
   "source": [
    "# Encoding some of the categorical features at training set"
   ]
  },
  {
   "cell_type": "code",
   "execution_count": 4,
   "id": "6253eb73",
   "metadata": {
    "execution": {
     "iopub.execute_input": "2022-12-25T15:34:03.187492Z",
     "iopub.status.busy": "2022-12-25T15:34:03.187084Z",
     "iopub.status.idle": "2022-12-25T15:34:03.210016Z",
     "shell.execute_reply": "2022-12-25T15:34:03.208736Z"
    },
    "papermill": {
     "duration": 0.033816,
     "end_time": "2022-12-25T15:34:03.212834",
     "exception": false,
     "start_time": "2022-12-25T15:34:03.179018",
     "status": "completed"
    },
    "tags": []
   },
   "outputs": [],
   "source": [
    "from sklearn.compose import ColumnTransformer\n",
    "from sklearn.preprocessing import OneHotEncoder\n",
    "\n",
    "ct_x_train_sex = ColumnTransformer(transformers=[('encoder', OneHotEncoder(),[1])], \n",
    "                           remainder='passthrough')\n",
    "x_train = np.array(ct_x_train_sex.fit_transform(x_train))\n",
    "\n",
    "\n",
    "ct_x_train_Pclass = ColumnTransformer(transformers=[('encoder', OneHotEncoder(),[2])], \n",
    "                           remainder='passthrough')\n",
    "x_train = np.array(ct_x_train_Pclass.fit_transform(x_train))\n",
    "\n",
    "\n",
    "ct_x_train_embarked = ColumnTransformer(transformers=[('encoder', OneHotEncoder(),[9])], \n",
    "                           remainder='passthrough')\n",
    "x_train = np.array(ct_x_train_embarked.fit_transform(x_train))"
   ]
  },
  {
   "cell_type": "markdown",
   "id": "498b8d13",
   "metadata": {
    "papermill": {
     "duration": 0.006457,
     "end_time": "2022-12-25T15:34:03.226014",
     "exception": false,
     "start_time": "2022-12-25T15:34:03.219557",
     "status": "completed"
    },
    "tags": []
   },
   "source": [
    "# Encoding at test set"
   ]
  },
  {
   "cell_type": "code",
   "execution_count": 5,
   "id": "f9e82fcb",
   "metadata": {
    "execution": {
     "iopub.execute_input": "2022-12-25T15:34:03.241085Z",
     "iopub.status.busy": "2022-12-25T15:34:03.240649Z",
     "iopub.status.idle": "2022-12-25T15:34:03.256165Z",
     "shell.execute_reply": "2022-12-25T15:34:03.255035Z"
    },
    "papermill": {
     "duration": 0.02603,
     "end_time": "2022-12-25T15:34:03.258739",
     "exception": false,
     "start_time": "2022-12-25T15:34:03.232709",
     "status": "completed"
    },
    "tags": []
   },
   "outputs": [],
   "source": [
    "ct_x_test_sex = ColumnTransformer(transformers=[('encoder', OneHotEncoder(),[1])], \n",
    "                           remainder='passthrough')\n",
    "x_test = np.array(ct_x_test_sex.fit_transform(x_test))\n",
    "\n",
    "ct_x_test_Pclass = ColumnTransformer(transformers=[('encoder', OneHotEncoder(),[2])], \n",
    "                           remainder='passthrough')\n",
    "x_test = np.array(ct_x_test_Pclass.fit_transform(x_test))\n",
    "\n",
    "ct_x_test_embarked = ColumnTransformer(transformers=[('encoder', OneHotEncoder(),[9])], \n",
    "                           remainder='passthrough')\n",
    "x_test = np.array(ct_x_test_embarked.fit_transform(x_test))"
   ]
  },
  {
   "cell_type": "markdown",
   "id": "6aa997e0",
   "metadata": {
    "papermill": {
     "duration": 0.006466,
     "end_time": "2022-12-25T15:34:03.271901",
     "exception": false,
     "start_time": "2022-12-25T15:34:03.265435",
     "status": "completed"
    },
    "tags": []
   },
   "source": [
    "# Scaling some of the features of training set"
   ]
  },
  {
   "cell_type": "code",
   "execution_count": 6,
   "id": "e77d2feb",
   "metadata": {
    "execution": {
     "iopub.execute_input": "2022-12-25T15:34:03.287032Z",
     "iopub.status.busy": "2022-12-25T15:34:03.286599Z",
     "iopub.status.idle": "2022-12-25T15:34:03.296029Z",
     "shell.execute_reply": "2022-12-25T15:34:03.294854Z"
    },
    "papermill": {
     "duration": 0.019862,
     "end_time": "2022-12-25T15:34:03.298334",
     "exception": false,
     "start_time": "2022-12-25T15:34:03.278472",
     "status": "completed"
    },
    "tags": []
   },
   "outputs": [],
   "source": [
    "from sklearn.preprocessing import StandardScaler\n",
    "sc = StandardScaler()\n",
    "\n",
    "x_train[:, 8:9] = sc.fit_transform(x_train[:, 8:9])\n",
    "x_train[:, 9:10] = sc.fit_transform(x_train[:, 9:10])\n",
    "x_train[:, 10:11] = sc.fit_transform(x_train[:, 10:11])\n",
    "x_train[:, 11:12] = sc.fit_transform(x_train[:, 11:12])"
   ]
  },
  {
   "cell_type": "markdown",
   "id": "cda532e4",
   "metadata": {
    "papermill": {
     "duration": 0.006727,
     "end_time": "2022-12-25T15:34:03.311957",
     "exception": false,
     "start_time": "2022-12-25T15:34:03.305230",
     "status": "completed"
    },
    "tags": []
   },
   "source": [
    "# Scaling some features of the test set"
   ]
  },
  {
   "cell_type": "code",
   "execution_count": 7,
   "id": "48fd12cd",
   "metadata": {
    "execution": {
     "iopub.execute_input": "2022-12-25T15:34:03.327372Z",
     "iopub.status.busy": "2022-12-25T15:34:03.326938Z",
     "iopub.status.idle": "2022-12-25T15:34:03.337800Z",
     "shell.execute_reply": "2022-12-25T15:34:03.336553Z"
    },
    "papermill": {
     "duration": 0.021368,
     "end_time": "2022-12-25T15:34:03.340276",
     "exception": false,
     "start_time": "2022-12-25T15:34:03.318908",
     "status": "completed"
    },
    "tags": []
   },
   "outputs": [],
   "source": [
    "x_test[:, 8:9] = sc.fit_transform(x_test[:, 8:9])\n",
    "x_test[:, 9:10] = sc.fit_transform(x_test[:, 9:10])\n",
    "x_test[:, 10:11] = sc.fit_transform(x_test[:, 10:11])\n",
    "x_test[:, 11:12] = sc.fit_transform(x_test[:, 11:12])"
   ]
  },
  {
   "cell_type": "markdown",
   "id": "d728ed0c",
   "metadata": {
    "papermill": {
     "duration": 0.006267,
     "end_time": "2022-12-25T15:34:03.353200",
     "exception": false,
     "start_time": "2022-12-25T15:34:03.346933",
     "status": "completed"
    },
    "tags": []
   },
   "source": [
    "# Importing tensorflow"
   ]
  },
  {
   "cell_type": "code",
   "execution_count": 8,
   "id": "4c1cdb1a",
   "metadata": {
    "execution": {
     "iopub.execute_input": "2022-12-25T15:34:03.368103Z",
     "iopub.status.busy": "2022-12-25T15:34:03.367704Z",
     "iopub.status.idle": "2022-12-25T15:34:07.856055Z",
     "shell.execute_reply": "2022-12-25T15:34:07.854769Z"
    },
    "papermill": {
     "duration": 4.499381,
     "end_time": "2022-12-25T15:34:07.859071",
     "exception": false,
     "start_time": "2022-12-25T15:34:03.359690",
     "status": "completed"
    },
    "tags": []
   },
   "outputs": [
    {
     "name": "stdout",
     "output_type": "stream",
     "text": [
      "2.6.4\n",
      "(891, 12)\n",
      "(891,)\n"
     ]
    }
   ],
   "source": [
    "import tensorflow as tf\n",
    "print(tf.__version__)\n",
    "print(x_train.shape)\n",
    "print(Y_train.shape)"
   ]
  },
  {
   "cell_type": "markdown",
   "id": "be3fe50e",
   "metadata": {
    "papermill": {
     "duration": 0.00638,
     "end_time": "2022-12-25T15:34:07.872357",
     "exception": false,
     "start_time": "2022-12-25T15:34:07.865977",
     "status": "completed"
    },
    "tags": []
   },
   "source": [
    "# Converting numpy arrays into tensors"
   ]
  },
  {
   "cell_type": "code",
   "execution_count": 9,
   "id": "bba94165",
   "metadata": {
    "execution": {
     "iopub.execute_input": "2022-12-25T15:34:07.887953Z",
     "iopub.status.busy": "2022-12-25T15:34:07.887242Z",
     "iopub.status.idle": "2022-12-25T15:34:07.928205Z",
     "shell.execute_reply": "2022-12-25T15:34:07.926737Z"
    },
    "papermill": {
     "duration": 0.052551,
     "end_time": "2022-12-25T15:34:07.931559",
     "exception": false,
     "start_time": "2022-12-25T15:34:07.879008",
     "status": "completed"
    },
    "tags": []
   },
   "outputs": [
    {
     "name": "stdout",
     "output_type": "stream",
     "text": [
      "(891, 12)\n"
     ]
    },
    {
     "name": "stderr",
     "output_type": "stream",
     "text": [
      "2022-12-25 15:34:07.909069: I tensorflow/core/common_runtime/process_util.cc:146] Creating new thread pool with default inter op setting: 2. Tune using inter_op_parallelism_threads for best performance.\n"
     ]
    }
   ],
   "source": [
    "x_train= tf.convert_to_tensor(x_train,dtype=tf.float32)\n",
    "x_test= tf.convert_to_tensor(x_test,dtype=tf.float32)\n",
    "Y_train= tf.convert_to_tensor(Y_train,dtype=tf.float32)\n",
    "\n",
    "print(x_train.shape)"
   ]
  },
  {
   "cell_type": "markdown",
   "id": "a5a0eacc",
   "metadata": {
    "papermill": {
     "duration": 0.006728,
     "end_time": "2022-12-25T15:34:07.945637",
     "exception": false,
     "start_time": "2022-12-25T15:34:07.938909",
     "status": "completed"
    },
    "tags": []
   },
   "source": [
    "# Creating the model"
   ]
  },
  {
   "cell_type": "code",
   "execution_count": 10,
   "id": "41047ab7",
   "metadata": {
    "execution": {
     "iopub.execute_input": "2022-12-25T15:34:07.961225Z",
     "iopub.status.busy": "2022-12-25T15:34:07.960429Z",
     "iopub.status.idle": "2022-12-25T15:34:09.380049Z",
     "shell.execute_reply": "2022-12-25T15:34:09.378899Z"
    },
    "papermill": {
     "duration": 1.430247,
     "end_time": "2022-12-25T15:34:09.382616",
     "exception": false,
     "start_time": "2022-12-25T15:34:07.952369",
     "status": "completed"
    },
    "tags": []
   },
   "outputs": [],
   "source": [
    "model = tf.keras.models.Sequential([\n",
    "    tf.keras.layers.Dense(256,input_shape=(12,), activation='relu'), # first layer\n",
    "    tf.keras.layers.Dense(128, activation='relu'),\n",
    "    tf.keras.layers.Dense(64, activation='relu'),\n",
    "    tf.keras.layers.Dense(32, activation='relu'),\n",
    "    tf.keras.layers.Dense(1, activation='sigmoid') # second layer\n",
    "])"
   ]
  },
  {
   "cell_type": "markdown",
   "id": "efe0789b",
   "metadata": {
    "papermill": {
     "duration": 0.006832,
     "end_time": "2022-12-25T15:34:09.396914",
     "exception": false,
     "start_time": "2022-12-25T15:34:09.390082",
     "status": "completed"
    },
    "tags": []
   },
   "source": [
    "# Compiling the model"
   ]
  },
  {
   "cell_type": "code",
   "execution_count": 11,
   "id": "f3a7655e",
   "metadata": {
    "execution": {
     "iopub.execute_input": "2022-12-25T15:34:09.413029Z",
     "iopub.status.busy": "2022-12-25T15:34:09.412572Z",
     "iopub.status.idle": "2022-12-25T15:34:09.428976Z",
     "shell.execute_reply": "2022-12-25T15:34:09.427949Z"
    },
    "papermill": {
     "duration": 0.027365,
     "end_time": "2022-12-25T15:34:09.431449",
     "exception": false,
     "start_time": "2022-12-25T15:34:09.404084",
     "status": "completed"
    },
    "tags": []
   },
   "outputs": [],
   "source": [
    "model.compile(optimizer='adam',\n",
    "              loss='binary_crossentropy',\n",
    "              metrics=['accuracy'])"
   ]
  },
  {
   "cell_type": "markdown",
   "id": "77399839",
   "metadata": {
    "papermill": {
     "duration": 0.006666,
     "end_time": "2022-12-25T15:34:09.445425",
     "exception": false,
     "start_time": "2022-12-25T15:34:09.438759",
     "status": "completed"
    },
    "tags": []
   },
   "source": [
    "# Training the model"
   ]
  },
  {
   "cell_type": "code",
   "execution_count": 12,
   "id": "be5c4fcf",
   "metadata": {
    "execution": {
     "iopub.execute_input": "2022-12-25T15:34:09.461514Z",
     "iopub.status.busy": "2022-12-25T15:34:09.460627Z",
     "iopub.status.idle": "2022-12-25T15:34:15.596218Z",
     "shell.execute_reply": "2022-12-25T15:34:15.594752Z"
    },
    "papermill": {
     "duration": 6.146723,
     "end_time": "2022-12-25T15:34:15.599101",
     "exception": false,
     "start_time": "2022-12-25T15:34:09.452378",
     "status": "completed"
    },
    "tags": []
   },
   "outputs": [
    {
     "name": "stderr",
     "output_type": "stream",
     "text": [
      "2022-12-25 15:34:09.546220: I tensorflow/compiler/mlir/mlir_graph_optimization_pass.cc:185] None of the MLIR Optimization Passes are enabled (registered 2)\n"
     ]
    },
    {
     "name": "stdout",
     "output_type": "stream",
     "text": [
      "Epoch 1/50\n",
      "28/28 [==============================] - 1s 4ms/step - loss: 0.5409 - accuracy: 0.7430\n",
      "Epoch 2/50\n",
      "28/28 [==============================] - 0s 4ms/step - loss: 0.4420 - accuracy: 0.8148\n",
      "Epoch 3/50\n",
      "28/28 [==============================] - 0s 4ms/step - loss: 0.4105 - accuracy: 0.8272\n",
      "Epoch 4/50\n",
      "28/28 [==============================] - 0s 4ms/step - loss: 0.4024 - accuracy: 0.8305\n",
      "Epoch 5/50\n",
      "28/28 [==============================] - 0s 4ms/step - loss: 0.3927 - accuracy: 0.8384\n",
      "Epoch 6/50\n",
      "28/28 [==============================] - 0s 4ms/step - loss: 0.3824 - accuracy: 0.8418\n",
      "Epoch 7/50\n",
      "28/28 [==============================] - 0s 4ms/step - loss: 0.3843 - accuracy: 0.8451\n",
      "Epoch 8/50\n",
      "28/28 [==============================] - 0s 5ms/step - loss: 0.3743 - accuracy: 0.8474\n",
      "Epoch 9/50\n",
      "28/28 [==============================] - 0s 4ms/step - loss: 0.3778 - accuracy: 0.8429\n",
      "Epoch 10/50\n",
      "28/28 [==============================] - 0s 3ms/step - loss: 0.3688 - accuracy: 0.8462\n",
      "Epoch 11/50\n",
      "28/28 [==============================] - 0s 3ms/step - loss: 0.3643 - accuracy: 0.8586\n",
      "Epoch 12/50\n",
      "28/28 [==============================] - 0s 3ms/step - loss: 0.3643 - accuracy: 0.8496\n",
      "Epoch 13/50\n",
      "28/28 [==============================] - 0s 3ms/step - loss: 0.3570 - accuracy: 0.8541\n",
      "Epoch 14/50\n",
      "28/28 [==============================] - 0s 3ms/step - loss: 0.3596 - accuracy: 0.8563\n",
      "Epoch 15/50\n",
      "28/28 [==============================] - 0s 3ms/step - loss: 0.3534 - accuracy: 0.8552\n",
      "Epoch 16/50\n",
      "28/28 [==============================] - 0s 4ms/step - loss: 0.3512 - accuracy: 0.8597\n",
      "Epoch 17/50\n",
      "28/28 [==============================] - 0s 4ms/step - loss: 0.3460 - accuracy: 0.8608\n",
      "Epoch 18/50\n",
      "28/28 [==============================] - 0s 3ms/step - loss: 0.3423 - accuracy: 0.8597\n",
      "Epoch 19/50\n",
      "28/28 [==============================] - 0s 3ms/step - loss: 0.3521 - accuracy: 0.8474\n",
      "Epoch 20/50\n",
      "28/28 [==============================] - 0s 3ms/step - loss: 0.3389 - accuracy: 0.8575\n",
      "Epoch 21/50\n",
      "28/28 [==============================] - 0s 3ms/step - loss: 0.3525 - accuracy: 0.8474\n",
      "Epoch 22/50\n",
      "28/28 [==============================] - 0s 4ms/step - loss: 0.3416 - accuracy: 0.8620\n",
      "Epoch 23/50\n",
      "28/28 [==============================] - 0s 4ms/step - loss: 0.3359 - accuracy: 0.8608\n",
      "Epoch 24/50\n",
      "28/28 [==============================] - 0s 4ms/step - loss: 0.3473 - accuracy: 0.8563\n",
      "Epoch 25/50\n",
      "28/28 [==============================] - 0s 3ms/step - loss: 0.3510 - accuracy: 0.8519\n",
      "Epoch 26/50\n",
      "28/28 [==============================] - 0s 3ms/step - loss: 0.3322 - accuracy: 0.8676\n",
      "Epoch 27/50\n",
      "28/28 [==============================] - 0s 3ms/step - loss: 0.3204 - accuracy: 0.8687\n",
      "Epoch 28/50\n",
      "28/28 [==============================] - 0s 3ms/step - loss: 0.3286 - accuracy: 0.8653\n",
      "Epoch 29/50\n",
      "28/28 [==============================] - 0s 3ms/step - loss: 0.3247 - accuracy: 0.8676\n",
      "Epoch 30/50\n",
      "28/28 [==============================] - 0s 3ms/step - loss: 0.3239 - accuracy: 0.8676\n",
      "Epoch 31/50\n",
      "28/28 [==============================] - 0s 3ms/step - loss: 0.3141 - accuracy: 0.8687\n",
      "Epoch 32/50\n",
      "28/28 [==============================] - 0s 3ms/step - loss: 0.3226 - accuracy: 0.8620\n",
      "Epoch 33/50\n",
      "28/28 [==============================] - 0s 3ms/step - loss: 0.3155 - accuracy: 0.8732\n",
      "Epoch 34/50\n",
      "28/28 [==============================] - 0s 5ms/step - loss: 0.3091 - accuracy: 0.8732\n",
      "Epoch 35/50\n",
      "28/28 [==============================] - 0s 3ms/step - loss: 0.3213 - accuracy: 0.8608\n",
      "Epoch 36/50\n",
      "28/28 [==============================] - 0s 3ms/step - loss: 0.3172 - accuracy: 0.8631\n",
      "Epoch 37/50\n",
      "28/28 [==============================] - 0s 3ms/step - loss: 0.3210 - accuracy: 0.8698\n",
      "Epoch 38/50\n",
      "28/28 [==============================] - 0s 3ms/step - loss: 0.3066 - accuracy: 0.8754\n",
      "Epoch 39/50\n",
      "28/28 [==============================] - 0s 3ms/step - loss: 0.3030 - accuracy: 0.8799\n",
      "Epoch 40/50\n",
      "28/28 [==============================] - 0s 3ms/step - loss: 0.3126 - accuracy: 0.8754\n",
      "Epoch 41/50\n",
      "28/28 [==============================] - 0s 3ms/step - loss: 0.3028 - accuracy: 0.8765\n",
      "Epoch 42/50\n",
      "28/28 [==============================] - 0s 3ms/step - loss: 0.3009 - accuracy: 0.8721\n",
      "Epoch 43/50\n",
      "28/28 [==============================] - 0s 3ms/step - loss: 0.3085 - accuracy: 0.8709\n",
      "Epoch 44/50\n",
      "28/28 [==============================] - 0s 3ms/step - loss: 0.3026 - accuracy: 0.8799\n",
      "Epoch 45/50\n",
      "28/28 [==============================] - 0s 3ms/step - loss: 0.2976 - accuracy: 0.8743\n",
      "Epoch 46/50\n",
      "28/28 [==============================] - 0s 3ms/step - loss: 0.3036 - accuracy: 0.8799\n",
      "Epoch 47/50\n",
      "28/28 [==============================] - 0s 3ms/step - loss: 0.2897 - accuracy: 0.8777\n",
      "Epoch 48/50\n",
      "28/28 [==============================] - 0s 3ms/step - loss: 0.2857 - accuracy: 0.8822\n",
      "Epoch 49/50\n",
      "28/28 [==============================] - 0s 3ms/step - loss: 0.2999 - accuracy: 0.8765\n",
      "Epoch 50/50\n",
      "28/28 [==============================] - 0s 3ms/step - loss: 0.2864 - accuracy: 0.8810\n"
     ]
    }
   ],
   "source": [
    "r = model.fit(x_train, Y_train, epochs=50)"
   ]
  },
  {
   "cell_type": "markdown",
   "id": "10f0b293",
   "metadata": {
    "papermill": {
     "duration": 0.01723,
     "end_time": "2022-12-25T15:34:15.634302",
     "exception": false,
     "start_time": "2022-12-25T15:34:15.617072",
     "status": "completed"
    },
    "tags": []
   },
   "source": [
    "# Plotting the loss per epochs"
   ]
  },
  {
   "cell_type": "code",
   "execution_count": 13,
   "id": "e821c498",
   "metadata": {
    "execution": {
     "iopub.execute_input": "2022-12-25T15:34:15.672016Z",
     "iopub.status.busy": "2022-12-25T15:34:15.671560Z",
     "iopub.status.idle": "2022-12-25T15:34:15.885824Z",
     "shell.execute_reply": "2022-12-25T15:34:15.884699Z"
    },
    "papermill": {
     "duration": 0.236294,
     "end_time": "2022-12-25T15:34:15.888557",
     "exception": false,
     "start_time": "2022-12-25T15:34:15.652263",
     "status": "completed"
    },
    "tags": []
   },
   "outputs": [
    {
     "data": {
      "text/plain": [
       "<matplotlib.legend.Legend at 0x7fef0309b1d0>"
      ]
     },
     "execution_count": 13,
     "metadata": {},
     "output_type": "execute_result"
    },
    {
     "data": {
      "image/png": "[encoded data removed]",
      "text/plain": [
       "<Figure size 432x288 with 1 Axes>"
      ]
     },
     "metadata": {
      "needs_background": "light"
     },
     "output_type": "display_data"
    }
   ],
   "source": [
    "import matplotlib.pyplot as plt\n",
    "plt.plot(r.history['loss'], label='training loss')\n",
    "plt.legend()"
   ]
  },
  {
   "cell_type": "markdown",
   "id": "0a1e1adc",
   "metadata": {
    "papermill": {
     "duration": 0.017927,
     "end_time": "2022-12-25T15:34:15.925077",
     "exception": false,
     "start_time": "2022-12-25T15:34:15.907150",
     "status": "completed"
    },
    "tags": []
   },
   "source": [
    "# Plotting the accuracy per epochs"
   ]
  },
  {
   "cell_type": "code",
   "execution_count": 14,
   "id": "70c451aa",
   "metadata": {
    "execution": {
     "iopub.execute_input": "2022-12-25T15:34:15.963360Z",
     "iopub.status.busy": "2022-12-25T15:34:15.962936Z",
     "iopub.status.idle": "2022-12-25T15:34:16.202128Z",
     "shell.execute_reply": "2022-12-25T15:34:16.200956Z"
    },
    "papermill": {
     "duration": 0.26154,
     "end_time": "2022-12-25T15:34:16.204814",
     "exception": false,
     "start_time": "2022-12-25T15:34:15.943274",
     "status": "completed"
    },
    "tags": []
   },
   "outputs": [
    {
     "data": {
      "text/plain": [
       "<matplotlib.legend.Legend at 0x7fef02784f90>"
      ]
     },
     "execution_count": 14,
     "metadata": {},
     "output_type": "execute_result"
    },
    {
     "data": {
      "image/png": "[encoded data removed]",
      "text/plain": [
       "<Figure size 432x288 with 1 Axes>"
      ]
     },
     "metadata": {
      "needs_background": "light"
     },
     "output_type": "display_data"
    }
   ],
   "source": [
    "plt.plot(r.history['accuracy'], label='accuracy')\n",
    "plt.legend()"
   ]
  },
  {
   "cell_type": "markdown",
   "id": "ab8ef9b4",
   "metadata": {
    "papermill": {
     "duration": 0.018409,
     "end_time": "2022-12-25T15:34:16.241812",
     "exception": false,
     "start_time": "2022-12-25T15:34:16.223403",
     "status": "completed"
    },
    "tags": []
   },
   "source": [
    "# Predicting the test set"
   ]
  },
  {
   "cell_type": "code",
   "execution_count": 15,
   "id": "57e28f96",
   "metadata": {
    "execution": {
     "iopub.execute_input": "2022-12-25T15:34:16.280596Z",
     "iopub.status.busy": "2022-12-25T15:34:16.280153Z",
     "iopub.status.idle": "2022-12-25T15:34:16.462175Z",
     "shell.execute_reply": "2022-12-25T15:34:16.460255Z"
    },
    "papermill": {
     "duration": 0.205362,
     "end_time": "2022-12-25T15:34:16.465532",
     "exception": false,
     "start_time": "2022-12-25T15:34:16.260170",
     "status": "completed"
    },
    "tags": []
   },
   "outputs": [
    {
     "name": "stdout",
     "output_type": "stream",
     "text": [
      "[0. 0. 0. 0. 0. 0. 1. 0. 1. 0. 0. 0. 1. 0. 1. 1. 0. 0. 0. 0. 1. 1. 1. 1.\n",
      " 1. 0. 1. 0. 1. 0. 0. 0. 0. 0. 1. 0. 0. 1. 0. 1. 0. 1. 0. 1. 1. 0. 0. 0.\n",
      " 1. 1. 0. 0. 1. 1. 0. 0. 0. 0. 0. 1. 0. 0. 0. 1. 0. 1. 1. 0. 0. 1. 1. 0.\n",
      " 0. 0. 1. 0. 0. 1. 0. 1. 1. 1. 0. 0. 0. 0. 1. 0. 1. 1. 0. 0. 1. 0. 1. 0.\n",
      " 1. 0. 0. 0. 1. 0. 0. 0. 0. 0. 0. 0. 0. 0. 0. 1. 1. 1. 1. 1. 0. 1. 0. 1.\n",
      " 1. 0. 1. 0. 0. 1. 0. 1. 0. 0. 0. 0. 0. 0. 0. 0. 0. 0. 1. 0. 0. 1. 0. 0.\n",
      " 1. 0. 0. 0. 1. 0. 1. 0. 1. 1. 0. 0. 1. 1. 1. 1. 1. 1. 1. 0. 0. 0. 0. 0.\n",
      " 1. 1. 0. 0. 0. 0. 0. 1. 1. 1. 1. 1. 0. 1. 1. 0. 1. 0. 1. 0. 0. 0. 0. 0.\n",
      " 1. 0. 1. 0. 1. 0. 0. 0. 1. 1. 0. 1. 0. 0. 1. 0. 1. 0. 0. 0. 0. 1. 0. 0.\n",
      " 1. 0. 1. 0. 1. 0. 1. 0. 0. 1. 0. 1. 0. 0. 0. 1. 0. 0. 1. 0. 1. 0. 1. 1.\n",
      " 0. 1. 0. 0. 0. 0. 1. 0. 1. 0. 1. 0. 0. 0. 0. 0. 0. 0. 1. 0. 0. 0. 1. 1.\n",
      " 0. 0. 0. 0. 0. 0. 0. 0. 1. 1. 0. 1. 0. 0. 0. 0. 1. 1. 1. 0. 1. 0. 0. 0.\n",
      " 0. 0. 0. 1. 0. 0. 0. 0. 1. 0. 0. 0. 0. 0. 0. 0. 1. 1. 0. 1. 0. 0. 0. 0.\n",
      " 0. 1. 1. 1. 0. 0. 0. 0. 0. 0. 0. 1. 1. 0. 1. 0. 0. 0. 1. 0. 0. 1. 0. 0.\n",
      " 0. 0. 0. 0. 0. 0. 0. 1. 0. 0. 0. 0. 0. 1. 1. 0. 0. 0. 1. 0. 1. 0. 0. 1.\n",
      " 0. 1. 1. 0. 1. 0. 0. 1. 1. 0. 0. 1. 0. 0. 1. 1. 0. 0. 0. 0. 0. 0. 0. 0.\n",
      " 0. 1. 0. 0. 0. 0. 0. 1. 1. 0. 0. 1. 0. 1. 0. 0. 1. 0. 1. 0. 1. 0. 0. 0.\n",
      " 1. 1. 1. 1. 0. 0. 1. 0. 0. 1.]\n"
     ]
    }
   ],
   "source": [
    "predictions = model.predict(x_test).round().flatten()\n",
    "x_test_ids = x_test_ids.flatten()\n",
    "print(predictions)\n"
   ]
  },
  {
   "cell_type": "code",
   "execution_count": 16,
   "id": "e80c10d2",
   "metadata": {
    "execution": {
     "iopub.execute_input": "2022-12-25T15:34:16.505876Z",
     "iopub.status.busy": "2022-12-25T15:34:16.505151Z",
     "iopub.status.idle": "2022-12-25T15:34:16.520557Z",
     "shell.execute_reply": "2022-12-25T15:34:16.519328Z"
    },
    "papermill": {
     "duration": 0.038276,
     "end_time": "2022-12-25T15:34:16.523148",
     "exception": false,
     "start_time": "2022-12-25T15:34:16.484872",
     "status": "completed"
    },
    "tags": []
   },
   "outputs": [
    {
     "name": "stdout",
     "output_type": "stream",
     "text": [
      "     PassengerId  Survived\n",
      "0            892         0\n",
      "1            893         0\n",
      "2            894         0\n",
      "3            895         0\n",
      "4            896         0\n",
      "..           ...       ...\n",
      "413         1305         0\n",
      "414         1306         1\n",
      "415         1307         0\n",
      "416         1308         0\n",
      "417         1309         1\n",
      "\n",
      "[418 rows x 2 columns]\n"
     ]
    }
   ],
   "source": [
    "df = pd.DataFrame({'PassengerId':x_test_ids, 'Survived':predictions.astype(int)})\n",
    "df.to_csv('Titanic-Submission-V.1.csv', index=False)\n",
    "print(df)"
   ]
  }
 ],
 "metadata": {
  "kernelspec": {
   "display_name": "Python 3",
   "language": "python",
   "name": "python3"
  },
  "language_info": {
   "codemirror_mode": {
    "name": "ipython",
    "version": 3
   },
   "file_extension": ".py",
   "mimetype": "text/x-python",
   "name": "python",
   "nbconvert_exporter": "python",
   "pygments_lexer": "ipython3",
   "version": "3.7.12"
  },
  "papermill": {
   "default_parameters": {},
   "duration": 27.854671,
   "end_time": "2022-12-25T15:34:19.743727",
   "environment_variables": {},
   "exception": null,
   "input_path": "__notebook__.ipynb",
   "output_path": "__notebook__.ipynb",
   "parameters": {},
   "start_time": "2022-12-25T15:33:51.889056",
   "version": "2.3.4"
  }
 },
 "nbformat": 4,
 "nbformat_minor": 5
}
